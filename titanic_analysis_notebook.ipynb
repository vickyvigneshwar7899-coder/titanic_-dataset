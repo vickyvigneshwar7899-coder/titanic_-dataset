{
 "cells": [
  {
   "cell_type": "markdown",
   "id": "235ad619",
   "metadata": {},
   "source": [
    "# Titanic Dataset - Visual & Statistical Exploration\n",
    "\n",
    "This notebook walks through the exploration steps: overview, missing data, survival analysis, and correlations. It uses pandas and matplotlib."
   ]
  },
  {
   "cell_type": "code",
   "execution_count": null,
   "id": "91de58c7",
   "metadata": {},
   "outputs": [],
   "source": [
    "import pandas as pd\n",
    "import matplotlib.pyplot as plt\n",
    "train = pd.read_csv(r\"/mnt/data/train.csv\")\n",
    "train.head()"
   ]
  },
  {
   "cell_type": "code",
   "execution_count": null,
   "id": "cde84f54",
   "metadata": {},
   "outputs": [],
   "source": [
    "# Basic summary\n",
    "print(train.shape)\n",
    "print(train.describe(include='all').transpose().head())\n",
    "print('\\nMissing values:\\n', train.isnull().sum())"
   ]
  },
  {
   "cell_type": "code",
   "execution_count": null,
   "id": "213d1dae",
   "metadata": {},
   "outputs": [],
   "source": [
    "# Survival analyses\n",
    "print('Overall survival rate:', train['Survived'].mean())\n",
    "print('\\nSurvival rate by sex:')\n",
    "print(train.groupby('Sex')['Survived'].mean())\n",
    "print('\\nSurvival rate by Pclass:')\n",
    "print(train.groupby('Pclass')['Survived'].mean())\n",
    "\n",
    "# Plots (save to files)\n",
    "train['Survived'].value_counts().sort_index().plot(kind='bar', title='Survival Counts')\n",
    "plt.show()"
   ]
  },
  {
   "cell_type": "code",
   "execution_count": null,
   "id": "cc7c9d1a",
   "metadata": {},
   "outputs": [],
   "source": [
    "# Age distribution by survival\n",
    "train.boxplot(column='Age', by='Survived')\n",
    "plt.show()"
   ]
  },
  {
   "cell_type": "code",
   "execution_count": null,
   "id": "c267d87c",
   "metadata": {},
   "outputs": [],
   "source": [
    "# Correlation matrix\n",
    "corr = train.select_dtypes(include=[int,float]).corr()\n",
    "print(corr['Survived'].sort_values(ascending=False))\n",
    "import matplotlib.pyplot as plt\n",
    "plt.matshow(corr)\n",
    "plt.colorbar()\n",
    "plt.xticks(range(len(corr.columns)), corr.columns, rotation=90)\n",
    "plt.yticks(range(len(corr.columns)), corr.columns)\n",
    "plt.show()"
   ]
  }
 ],
 "metadata": {},
 "nbformat": 4,
 "nbformat_minor": 5
}
